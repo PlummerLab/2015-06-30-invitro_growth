{
 "cells": [
  {
   "cell_type": "code",
   "execution_count": 65,
   "metadata": {
    "collapsed": true
   },
   "outputs": [],
   "source": [
    "import numpy as np\n",
    "import pandas as pd\n",
    "from scipy import stats\n",
    "import matplotlib"
   ]
  },
  {
   "cell_type": "code",
   "execution_count": 7,
   "metadata": {
    "collapsed": true
   },
   "outputs": [],
   "source": [
    "%matplotlib inline"
   ]
  },
  {
   "cell_type": "code",
   "execution_count": 54,
   "metadata": {
    "collapsed": false
   },
   "outputs": [
    {
     "data": {
      "text/html": [
       "<div>\n",
       "<table border=\"1\" class=\"dataframe\">\n",
       "  <thead>\n",
       "    <tr style=\"text-align: right;\">\n",
       "      <th></th>\n",
       "      <th>isolate</th>\n",
       "      <th>dilution</th>\n",
       "      <th>A_630</th>\n",
       "      <th>replicate</th>\n",
       "    </tr>\n",
       "  </thead>\n",
       "  <tbody>\n",
       "    <tr>\n",
       "      <th>0</th>\n",
       "      <td>MNH120</td>\n",
       "      <td>0.500000</td>\n",
       "      <td>2.237</td>\n",
       "      <td>1</td>\n",
       "    </tr>\n",
       "    <tr>\n",
       "      <th>1</th>\n",
       "      <td>MNH120</td>\n",
       "      <td>0.333333</td>\n",
       "      <td>1.524</td>\n",
       "      <td>1</td>\n",
       "    </tr>\n",
       "    <tr>\n",
       "      <th>2</th>\n",
       "      <td>MNH120</td>\n",
       "      <td>0.250000</td>\n",
       "      <td>1.155</td>\n",
       "      <td>1</td>\n",
       "    </tr>\n",
       "    <tr>\n",
       "      <th>3</th>\n",
       "      <td>MNH120</td>\n",
       "      <td>0.200000</td>\n",
       "      <td>0.745</td>\n",
       "      <td>1</td>\n",
       "    </tr>\n",
       "    <tr>\n",
       "      <th>4</th>\n",
       "      <td>MNH120</td>\n",
       "      <td>0.166667</td>\n",
       "      <td>0.650</td>\n",
       "      <td>1</td>\n",
       "    </tr>\n",
       "    <tr>\n",
       "      <th>5</th>\n",
       "      <td>MNH120</td>\n",
       "      <td>0.142857</td>\n",
       "      <td>0.498</td>\n",
       "      <td>1</td>\n",
       "    </tr>\n",
       "    <tr>\n",
       "      <th>6</th>\n",
       "      <td>MNH120</td>\n",
       "      <td>0.125000</td>\n",
       "      <td>0.494</td>\n",
       "      <td>1</td>\n",
       "    </tr>\n",
       "    <tr>\n",
       "      <th>7</th>\n",
       "      <td>MNH120</td>\n",
       "      <td>0.111111</td>\n",
       "      <td>0.469</td>\n",
       "      <td>1</td>\n",
       "    </tr>\n",
       "    <tr>\n",
       "      <th>8</th>\n",
       "      <td>MNH120</td>\n",
       "      <td>0.100000</td>\n",
       "      <td>0.331</td>\n",
       "      <td>1</td>\n",
       "    </tr>\n",
       "    <tr>\n",
       "      <th>9</th>\n",
       "      <td>MNH120</td>\n",
       "      <td>0.083333</td>\n",
       "      <td>0.274</td>\n",
       "      <td>1</td>\n",
       "    </tr>\n",
       "    <tr>\n",
       "      <th>10</th>\n",
       "      <td>MNH120</td>\n",
       "      <td>0.066667</td>\n",
       "      <td>0.247</td>\n",
       "      <td>1</td>\n",
       "    </tr>\n",
       "    <tr>\n",
       "      <th>11</th>\n",
       "      <td>MNH120</td>\n",
       "      <td>0.050000</td>\n",
       "      <td>0.195</td>\n",
       "      <td>1</td>\n",
       "    </tr>\n",
       "  </tbody>\n",
       "</table>\n",
       "</div>"
      ],
      "text/plain": [
       "   isolate  dilution  A_630  replicate\n",
       "0   MNH120  0.500000  2.237          1\n",
       "1   MNH120  0.333333  1.524          1\n",
       "2   MNH120  0.250000  1.155          1\n",
       "3   MNH120  0.200000  0.745          1\n",
       "4   MNH120  0.166667  0.650          1\n",
       "5   MNH120  0.142857  0.498          1\n",
       "6   MNH120  0.125000  0.494          1\n",
       "7   MNH120  0.111111  0.469          1\n",
       "8   MNH120  0.100000  0.331          1\n",
       "9   MNH120  0.083333  0.274          1\n",
       "10  MNH120  0.066667  0.247          1\n",
       "11  MNH120  0.050000  0.195          1"
      ]
     },
     "execution_count": 54,
     "metadata": {},
     "output_type": "execute_result"
    }
   ],
   "source": [
    "curve = pd.read_csv('data/optical_density_curve.csv')\n",
    "curve['dilution'] = 1 / curve['dilution']\n",
    "curve"
   ]
  },
  {
   "cell_type": "code",
   "execution_count": 83,
   "metadata": {
    "collapsed": false
   },
   "outputs": [
    {
     "name": "stdout",
     "output_type": "stream",
     "text": [
      "4.70628339431 -0.100043995056\n"
     ]
    }
   ],
   "source": [
    "slope, intercept, r_value, p_value, std_err = stats.linregress(curve.dilution, curve.A_630)\n",
    "def model(x, y_int=intercept):\n",
    "    return slope * x + y_int\n",
    "\n",
    "def model_dilution(y, y_int=intercept):\n",
    "    return (y - y_int) / slope\n",
    "\n",
    "print(slope, intercept)"
   ]
  },
  {
   "cell_type": "markdown",
   "metadata": {},
   "source": [
    "$y = 4.7063 \\times y - 0.1000$"
   ]
  },
  {
   "cell_type": "code",
   "execution_count": 67,
   "metadata": {
    "collapsed": false
   },
   "outputs": [
    {
     "data": {
      "text/plain": [
       "<matplotlib.axes._subplots.AxesSubplot at 0x7fd234715630>"
      ]
     },
     "execution_count": 67,
     "metadata": {},
     "output_type": "execute_result"
    },
    {
     "data": {
      "image/png": "[encoded data removed]",
      "text/plain": [
       "<matplotlib.figure.Figure at 0x7fd234785be0>"
      ]
     },
     "metadata": {},
     "output_type": "display_data"
    }
   ],
   "source": [
    "curve[['A_630', 'dilution']].plot('dilution')"
   ]
  },
  {
   "cell_type": "code",
   "execution_count": 80,
   "metadata": {
    "collapsed": false
   },
   "outputs": [
    {
     "data": {
      "text/html": [
       "<div>\n",
       "<table border=\"1\" class=\"dataframe\">\n",
       "  <thead>\n",
       "    <tr style=\"text-align: right;\">\n",
       "      <th></th>\n",
       "      <th>A_630</th>\n",
       "    </tr>\n",
       "    <tr>\n",
       "      <th>isolate</th>\n",
       "      <th></th>\n",
       "    </tr>\n",
       "  </thead>\n",
       "  <tbody>\n",
       "    <tr>\n",
       "      <th>120.17</th>\n",
       "      <td>0.283000</td>\n",
       "    </tr>\n",
       "    <tr>\n",
       "      <th>120.19</th>\n",
       "      <td>0.630333</td>\n",
       "    </tr>\n",
       "    <tr>\n",
       "      <th>120.37</th>\n",
       "      <td>0.532667</td>\n",
       "    </tr>\n",
       "    <tr>\n",
       "      <th>120.61</th>\n",
       "      <td>0.162750</td>\n",
       "    </tr>\n",
       "    <tr>\n",
       "      <th>120.67</th>\n",
       "      <td>0.595333</td>\n",
       "    </tr>\n",
       "    <tr>\n",
       "      <th>120.9</th>\n",
       "      <td>0.443000</td>\n",
       "    </tr>\n",
       "    <tr>\n",
       "      <th>MNH120</th>\n",
       "      <td>0.686333</td>\n",
       "    </tr>\n",
       "    <tr>\n",
       "      <th>USR5</th>\n",
       "      <td>0.261333</td>\n",
       "    </tr>\n",
       "  </tbody>\n",
       "</table>\n",
       "</div>"
      ],
      "text/plain": [
       "            A_630\n",
       "isolate          \n",
       "120.17   0.283000\n",
       "120.19   0.630333\n",
       "120.37   0.532667\n",
       "120.61   0.162750\n",
       "120.67   0.595333\n",
       "120.9    0.443000\n",
       "MNH120   0.686333\n",
       "USR5     0.261333"
      ]
     },
     "execution_count": 80,
     "metadata": {},
     "output_type": "execute_result"
    }
   ],
   "source": [
    "ods = pd.read_csv('data/optical_densities.csv')\n",
    "ods['dilution'] = 1 / ods['dilution']\n",
    "ods['isolate'] = ods['isolate'].astype('category')\n",
    "ods_mean = ods[[\"isolate\", \"A_630\"]].groupby(\"isolate\").mean()\n",
    "ods_mean"
   ]
  },
  {
   "cell_type": "code",
   "execution_count": 93,
   "metadata": {
    "collapsed": false
   },
   "outputs": [],
   "source": [
    "dilution_required = list()\n",
    "for i, row in ods_mean.iterrows():\n",
    "    diff = row.A_630 - model(0.2)\n",
    "    dilution_required.append(model_dilution(0.5, diff))\n",
    "ods_mean[\"dilution_reqd\"] = pd.Series(dilution_required, index=ods_mean.index)"
   ]
  },
  {
   "cell_type": "code",
   "execution_count": 94,
   "metadata": {
    "collapsed": false
   },
   "outputs": [
    {
     "data": {
      "text/html": [
       "<div>\n",
       "<table border=\"1\" class=\"dataframe\">\n",
       "  <thead>\n",
       "    <tr style=\"text-align: right;\">\n",
       "      <th></th>\n",
       "      <th>A_630</th>\n",
       "      <th>dilution_reqd</th>\n",
       "    </tr>\n",
       "    <tr>\n",
       "      <th>isolate</th>\n",
       "      <th></th>\n",
       "      <th></th>\n",
       "    </tr>\n",
       "  </thead>\n",
       "  <tbody>\n",
       "    <tr>\n",
       "      <th>120.17</th>\n",
       "      <td>0.283000</td>\n",
       "      <td>0.224851</td>\n",
       "    </tr>\n",
       "    <tr>\n",
       "      <th>120.19</th>\n",
       "      <td>0.630333</td>\n",
       "      <td>0.151049</td>\n",
       "    </tr>\n",
       "    <tr>\n",
       "      <th>120.37</th>\n",
       "      <td>0.532667</td>\n",
       "      <td>0.171801</td>\n",
       "    </tr>\n",
       "    <tr>\n",
       "      <th>120.61</th>\n",
       "      <td>0.162750</td>\n",
       "      <td>0.250402</td>\n",
       "    </tr>\n",
       "    <tr>\n",
       "      <th>120.67</th>\n",
       "      <td>0.595333</td>\n",
       "      <td>0.158486</td>\n",
       "    </tr>\n",
       "    <tr>\n",
       "      <th>120.9</th>\n",
       "      <td>0.443000</td>\n",
       "      <td>0.190854</td>\n",
       "    </tr>\n",
       "    <tr>\n",
       "      <th>MNH120</th>\n",
       "      <td>0.686333</td>\n",
       "      <td>0.139150</td>\n",
       "    </tr>\n",
       "    <tr>\n",
       "      <th>USR5</th>\n",
       "      <td>0.261333</td>\n",
       "      <td>0.229455</td>\n",
       "    </tr>\n",
       "  </tbody>\n",
       "</table>\n",
       "</div>"
      ],
      "text/plain": [
       "            A_630  dilution_reqd\n",
       "isolate                         \n",
       "120.17   0.283000       0.224851\n",
       "120.19   0.630333       0.151049\n",
       "120.37   0.532667       0.171801\n",
       "120.61   0.162750       0.250402\n",
       "120.67   0.595333       0.158486\n",
       "120.9    0.443000       0.190854\n",
       "MNH120   0.686333       0.139150\n",
       "USR5     0.261333       0.229455"
      ]
     },
     "execution_count": 94,
     "metadata": {},
     "output_type": "execute_result"
    }
   ],
   "source": [
    "ods_mean"
   ]
  },
  {
   "cell_type": "code",
   "execution_count": null,
   "metadata": {
    "collapsed": true
   },
   "outputs": [],
   "source": []
  }
 ],
 "metadata": {
  "kernelspec": {
   "display_name": "Python 3",
   "language": "python",
   "name": "python3"
  },
  "language_info": {
   "codemirror_mode": {
    "name": "ipython",
    "version": 3
   },
   "file_extension": ".py",
   "mimetype": "text/x-python",
   "name": "python",
   "nbconvert_exporter": "python",
   "pygments_lexer": "ipython3",
   "version": "3.4.2"
  }
 },
 "nbformat": 4,
 "nbformat_minor": 0
}
